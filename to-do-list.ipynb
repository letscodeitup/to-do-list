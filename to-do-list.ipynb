{
 "cells": [
  {
   "cell_type": "code",
   "execution_count": null,
   "id": "a3792010",
   "metadata": {},
   "outputs": [
    {
     "name": "stdout",
     "output_type": "stream",
     "text": [
      "\n",
      "Options:\n",
      "1. Add Task\n",
      "2. Remove Task\n",
      "3. Show Tasks\n",
      "4. Exit\n",
      "Enter your choice: 1\n",
      "Enter task: study\n",
      "Task 'study' added.\n",
      "\n",
      "Options:\n",
      "1. Add Task\n",
      "2. Remove Task\n",
      "3. Show Tasks\n",
      "4. Exit\n"
     ]
    }
   ],
   "source": [
    "class TodoList:\n",
    "    def __init__(self):\n",
    "        self.tasks = []\n",
    "\n",
    "    def add_task(self, task):\n",
    "        self.tasks.append(task)\n",
    "        print(f\"Task '{task}' added.\")\n",
    "\n",
    "    def remove_task(self, task):\n",
    "        if task in self.tasks:\n",
    "            self.tasks.remove(task)\n",
    "            print(f\"Task '{task}' removed.\")\n",
    "        else:\n",
    "            print(f\"Task '{task}' not found.\")\n",
    "\n",
    "    def show_tasks(self):\n",
    "        if self.tasks:\n",
    "            print(\"Tasks:\")\n",
    "            for idx, task in enumerate(self.tasks, start=1):\n",
    "                print(f\"{idx}. {task}\")\n",
    "        else:\n",
    "            print(\"No tasks.\")\n",
    "\n",
    "def main():\n",
    "    todo_list = TodoList()\n",
    "\n",
    "    while True:\n",
    "        print(\"\\nOptions:\")\n",
    "        print(\"1. Add Task\")\n",
    "        print(\"2. Remove Task\")\n",
    "        print(\"3. Show Tasks\")\n",
    "        print(\"4. Exit\")\n",
    "\n",
    "        choice = input(\"Enter your choice: \")\n",
    "\n",
    "        if choice == '1':\n",
    "            task = input(\"Enter task: \")\n",
    "            todo_list.add_task(task)\n",
    "        elif choice == '2':\n",
    "            task = input(\"Enter task to remove: \")\n",
    "            todo_list.remove_task(task)\n",
    "        elif choice == '3':\n",
    "            todo_list.show_tasks()\n",
    "        elif choice == '4':\n",
    "            print(\"Exiting...\")\n",
    "            break\n",
    "        else:\n",
    "            print(\"Invalid choice. Please enter a number between 1 and 4.\")\n",
    "\n",
    "if __name__ == \"__main__\":\n",
    "    main()\n"
   ]
  },
  {
   "cell_type": "code",
   "execution_count": null,
   "id": "73b7e01a",
   "metadata": {},
   "outputs": [],
   "source": []
  }
 ],
 "metadata": {
  "kernelspec": {
   "display_name": "Python 3 (ipykernel)",
   "language": "python",
   "name": "python3"
  },
  "language_info": {
   "codemirror_mode": {
    "name": "ipython",
    "version": 3
   },
   "file_extension": ".py",
   "mimetype": "text/x-python",
   "name": "python",
   "nbconvert_exporter": "python",
   "pygments_lexer": "ipython3",
   "version": "3.11.5"
  }
 },
 "nbformat": 4,
 "nbformat_minor": 5
}
